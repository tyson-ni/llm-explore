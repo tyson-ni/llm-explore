{
 "cells": [
  {
   "cell_type": "code",
   "execution_count": 3,
   "id": "c2672322",
   "metadata": {},
   "outputs": [],
   "source": [
    "import openai\n",
    "import os"
   ]
  },
  {
   "cell_type": "code",
   "execution_count": 4,
   "id": "daf4bd64",
   "metadata": {},
   "outputs": [],
   "source": [
    "openai.api_key = os.environ.get(\"OPENAI_API_KEY\")"
   ]
  },
  {
   "cell_type": "code",
   "execution_count": 21,
   "id": "c9331cf2",
   "metadata": {},
   "outputs": [],
   "source": [
    "def get_vision_completion(image_url: str, prompt: str):\n",
    "    response = openai.ChatCompletion.create(\n",
    "        model=\"gpt-4-vision-preview\",\n",
    "        messages=[\n",
    "            {\n",
    "                \"role\": \"user\",\n",
    "                \"content\": [\n",
    "                    {\"type\": \"text\", \"text\": prompt},\n",
    "                    {\n",
    "                        \"type\": \"image_url\",\n",
    "                        \"image_url\": image_url,\n",
    "                    },\n",
    "                ],\n",
    "            }\n",
    "        ],\n",
    "        max_tokens=2000,\n",
    "    )\n",
    "    return response\n"
   ]
  },
  {
   "cell_type": "code",
   "execution_count": 22,
   "id": "155a031a",
   "metadata": {},
   "outputs": [],
   "source": [
    "r1 = get_vision_completion('https://upload.wikimedia.org/wikipedia/commons/9/93/6DayWarEnglish.png', \"Which war does this map depict?\")\n"
   ]
  },
  {
   "cell_type": "code",
   "execution_count": 24,
   "id": "b5e6d096",
   "metadata": {},
   "outputs": [
    {
     "name": "stdout",
     "output_type": "stream",
     "text": [
      "The map depicts the Six-Day War which took place in June 1967. This conflict was fought between Israel and the neighboring states of Egypt (known at the time as the United Arab Republic), Jordan, and Syria. The map shows the territories before the war and outlines troop movements, as well as the armistice lines and territories captured by Israel during the conflict.\n"
     ]
    }
   ],
   "source": [
    "print(r1.choices[0].message.content)"
   ]
  },
  {
   "cell_type": "code",
   "execution_count": 25,
   "id": "4c819c5b",
   "metadata": {},
   "outputs": [
    {
     "name": "stdout",
     "output_type": "stream",
     "text": [
      "{\n",
      "  \"completion_tokens\": 74,\n",
      "  \"prompt_tokens\": 1119,\n",
      "  \"total_tokens\": 1193\n",
      "}\n"
     ]
    }
   ],
   "source": [
    "print(r1.usage)"
   ]
  },
  {
   "cell_type": "code",
   "execution_count": 26,
   "id": "140d3665",
   "metadata": {},
   "outputs": [],
   "source": [
    "r2 = get_vision_completion('https://techcrunch.com/wp-content/uploads/2023/10/GettyImages-1564377528.jpg?w=1390&crop=1', \"What does this image show and what may I use it for?\")\n"
   ]
  },
  {
   "cell_type": "code",
   "execution_count": 27,
   "id": "ccc10ba1",
   "metadata": {},
   "outputs": [
    {
     "name": "stdout",
     "output_type": "stream",
     "text": [
      "The image shows a person holding a smartphone with a cracked screen. The phone displays the logo of Uber, a popular ride-hailing app. In the background, out of focus, is a sign that also reads \"UBER,\" which could indicate the vicinity of an Uber pickup point, office, or advertising for Uber.\n",
      "\n",
      "You may use this image for various purposes, such as:\n",
      "\n",
      "1. Discussing ride-sharing services and apps like Uber.\n",
      "2. Illustrating articles or presentations on the gig economy or technology in transportation.\n",
      "3. Talking about smartphone usage and handling, including screen durability and the commonality of cracked screens.\n",
      "\n",
      "Please note, the use of this image should comply with copyright laws and respect the trademark rights of Uber. Ensure any non-editorial use does not misrepresent the Uber brand or imply endorsement by Uber if permission for such use has not been granted by the company.\n"
     ]
    }
   ],
   "source": [
    "print(r2.choices[0].message.content)"
   ]
  },
  {
   "cell_type": "code",
   "execution_count": 28,
   "id": "69a594bf",
   "metadata": {},
   "outputs": [
    {
     "name": "stdout",
     "output_type": "stream",
     "text": [
      "{\n",
      "  \"completion_tokens\": 176,\n",
      "  \"prompt_tokens\": 1125,\n",
      "  \"total_tokens\": 1301\n",
      "}\n"
     ]
    }
   ],
   "source": [
    "print(r2.usage)"
   ]
  },
  {
   "cell_type": "code",
   "execution_count": null,
   "id": "b069a1e3",
   "metadata": {},
   "outputs": [],
   "source": []
  }
 ],
 "metadata": {
  "kernelspec": {
   "display_name": "llm-explore Environment",
   "language": "python",
   "name": "llm-explore-venv"
  },
  "language_info": {
   "codemirror_mode": {
    "name": "ipython",
    "version": 3
   },
   "file_extension": ".py",
   "mimetype": "text/x-python",
   "name": "python",
   "nbconvert_exporter": "python",
   "pygments_lexer": "ipython3",
   "version": "3.9.13"
  }
 },
 "nbformat": 4,
 "nbformat_minor": 5
}
