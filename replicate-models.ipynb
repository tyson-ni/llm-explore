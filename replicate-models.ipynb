{
 "cells": [
  {
   "cell_type": "code",
   "execution_count": 1,
   "id": "9bc0a21a",
   "metadata": {},
   "outputs": [],
   "source": [
    "import replicate\n",
    "import os"
   ]
  },
  {
   "cell_type": "markdown",
   "id": "d84a64fb",
   "metadata": {},
   "source": [
    "## riffusion: 5 second text-to-music generation"
   ]
  },
  {
   "cell_type": "code",
   "execution_count": 4,
   "id": "c35928a9",
   "metadata": {},
   "outputs": [],
   "source": [
    "riffusion_output = replicate.run(\n",
    "    \"riffusion/riffusion:8cf61ea6c56afd61d8f5b9ffd14d7c216c0a93844ce2d82ac1c9ecc9c7f24e05\",\n",
    "    input={\n",
    "        \"prompt_a\": \"jazzy and soothing post-rock instrumental\",\n",
    "        \"num_inference_steps\": 100\n",
    "    }\n",
    ")"
   ]
  },
  {
   "cell_type": "code",
   "execution_count": 5,
   "id": "90ba51c7",
   "metadata": {},
   "outputs": [
    {
     "name": "stdout",
     "output_type": "stream",
     "text": [
      "{'audio': 'https://replicate.delivery/pbxt/oq0DZI3J8upxF1WSi7azZhVuOKLv3mM7f4bp4llSXLfJ4q8RA/gen_sound.wav', 'spectrogram': 'https://replicate.delivery/pbxt/qAAqEdA6W5ZLNNeyixwJe5vxAUeFEt6VLm7CSC2Gn1oVwV5jA/spectrogram.jpg'}\n"
     ]
    }
   ],
   "source": [
    "print(riffusion_output)"
   ]
  },
  {
   "cell_type": "markdown",
   "id": "10d12031",
   "metadata": {},
   "source": [
    "## yi-36B LLM"
   ]
  },
  {
   "cell_type": "code",
   "execution_count": 9,
   "id": "c9cbc0be",
   "metadata": {},
   "outputs": [],
   "source": [
    "yi_output = replicate.run(\n",
    "  \"01-ai/yi-34b-chat:914692bbe8a8e2b91a4e44203e70d170c9c5ccc1359b283c84b0ec8d47819a46\",\n",
    "  input={\n",
    "    \"prompt\": \"Write a brief paragraph to motivate me when I wake up on a weekday. Be creative, cute, inspirational and energetic.\",\n",
    "    \"temperature\": 0.3,\n",
    "    \"max_new_tokens\": 1024,\n",
    "    \"top_k\": 50,\n",
    "    \"top_p\": 0.8,\n",
    "    \"prompt_template\": \"<|im_start|>system\\nYou are a helpful assistant<|im_end|>\\n<|im_start|>user\\n{prompt}<|im_end|>\\n<|im_start|>assistant\\n\"\n",
    "  }\n",
    ")"
   ]
  },
  {
   "cell_type": "code",
   "execution_count": 12,
   "id": "e7273c3c",
   "metadata": {},
   "outputs": [
    {
     "name": "stdout",
     "output_type": "stream",
     "text": [
      "<generator object Prediction.output_iterator at 0x105e18f20>\n"
     ]
    }
   ],
   "source": [
    "print(yi_output)"
   ]
  },
  {
   "cell_type": "code",
   "execution_count": 13,
   "id": "f876fdaf",
   "metadata": {},
   "outputs": [
    {
     "data": {
      "text/plain": [
       "['__class__',\n",
       " '__del__',\n",
       " '__delattr__',\n",
       " '__dir__',\n",
       " '__doc__',\n",
       " '__eq__',\n",
       " '__format__',\n",
       " '__ge__',\n",
       " '__getattribute__',\n",
       " '__gt__',\n",
       " '__hash__',\n",
       " '__init__',\n",
       " '__init_subclass__',\n",
       " '__iter__',\n",
       " '__le__',\n",
       " '__lt__',\n",
       " '__name__',\n",
       " '__ne__',\n",
       " '__new__',\n",
       " '__next__',\n",
       " '__qualname__',\n",
       " '__reduce__',\n",
       " '__reduce_ex__',\n",
       " '__repr__',\n",
       " '__setattr__',\n",
       " '__sizeof__',\n",
       " '__str__',\n",
       " '__subclasshook__',\n",
       " 'close',\n",
       " 'gi_code',\n",
       " 'gi_frame',\n",
       " 'gi_running',\n",
       " 'gi_yieldfrom',\n",
       " 'send',\n",
       " 'throw']"
      ]
     },
     "execution_count": 13,
     "metadata": {},
     "output_type": "execute_result"
    }
   ],
   "source": [
    "dir(yi_output)"
   ]
  },
  {
   "cell_type": "markdown",
   "id": "549af942",
   "metadata": {},
   "source": [
    "## stable diffusion"
   ]
  },
  {
   "cell_type": "code",
   "execution_count": 16,
   "id": "8c32b453",
   "metadata": {},
   "outputs": [],
   "source": [
    "sd_output = replicate.run(\n",
    "    \"stability-ai/stable-diffusion:db21e45d3f7023abc2a46ee38a23973f6dce16bb082a930b0c49861f96d1e5bf\",\n",
    "    input={\"text\": \"an astronaut riding a horse in the space\"}\n",
    ")"
   ]
  },
  {
   "cell_type": "code",
   "execution_count": 17,
   "id": "7ee0069c",
   "metadata": {},
   "outputs": [
    {
     "name": "stdout",
     "output_type": "stream",
     "text": [
      "['https://replicate.delivery/pbxt/Vu5cuBVUwoLZKBrngIlCkBCnLCw0GGVbqBgHXBzFyww5wKfIA/out-0.png']\n"
     ]
    }
   ],
   "source": [
    "print(sd_output)"
   ]
  },
  {
   "cell_type": "code",
   "execution_count": null,
   "id": "8aed3fc1",
   "metadata": {},
   "outputs": [],
   "source": []
  }
 ],
 "metadata": {
  "kernelspec": {
   "display_name": "llm-explore Environment",
   "language": "python",
   "name": "llm-explore-venv"
  },
  "language_info": {
   "codemirror_mode": {
    "name": "ipython",
    "version": 3
   },
   "file_extension": ".py",
   "mimetype": "text/x-python",
   "name": "python",
   "nbconvert_exporter": "python",
   "pygments_lexer": "ipython3",
   "version": "3.9.13"
  }
 },
 "nbformat": 4,
 "nbformat_minor": 5
}
