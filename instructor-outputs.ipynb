{
 "cells": [
  {
   "cell_type": "code",
   "execution_count": 1,
   "id": "5354e837",
   "metadata": {},
   "outputs": [],
   "source": [
    "import instructor, llm_validator\n",
    "from openai import OpenAI\n",
    "from pydantic import BaseModel, ValidationError, BeforeValidator\n",
    "from typing import List\n",
    "from typing_extensions import Annotated\n"
   ]
  },
  {
   "cell_type": "code",
   "execution_count": 2,
   "id": "30e112c7",
   "metadata": {},
   "outputs": [],
   "source": [
    "# Enables `response_model`\n",
    "client = instructor.patch(OpenAI())"
   ]
  },
  {
   "cell_type": "markdown",
   "id": "09ec3758",
   "metadata": {},
   "source": [
    "## Get structured LLM output"
   ]
  },
  {
   "cell_type": "code",
   "execution_count": 3,
   "id": "d7edd541",
   "metadata": {},
   "outputs": [],
   "source": [
    "class ArticleDetail(BaseModel):\n",
    "    summary: str\n",
    "    headline: str\n",
    "    entities: List[str]"
   ]
  },
  {
   "cell_type": "code",
   "execution_count": 4,
   "id": "8bb6dd72",
   "metadata": {},
   "outputs": [],
   "source": [
    "article_example = \"\"\"\n",
    "Manchester United announced Sunday that British petrochemical billionaire Sir Jim Ratcliffe purchased a 25% stake in the famed English Premier League soccer club.\n",
    "\n",
    "The sale was confirmed by Manchester United and Ratcliffe-controlled INEOS, a London-based multinational conglomerate.\n",
    "\n",
    "INEOS said in a statement that Ratcliffe will acquire 25% of the club’s Class B shares and up to 25% of its publicly available Class A shares “and provide an additional $300 million intended to enable future investment into Old Trafford,” the club’s historic stadium. The Glazer family, which owns the majority of the club, and Class A shareholders will receive the same price of $33.00 per share, the club said. On Friday, shares of Manchester United (MANU) closed at $19.81.\n",
    "\n",
    "In May, Forbes valued Manchester United at $6 billion, just behind Real Madrid as the world’s most valuable soccer club. Shares of Manchester United had been down nearly 13% in 2023.\n",
    "\n",
    "The deal still requires approval from the English Premier League.\n",
    "\n",
    "“We are delighted to have agreed (to) this deal with Sir Jim Ratcliffe and INEOS,” said Avram Glazer and Joel Glazer, Manchester United’s executive co-chairmen and directors, in a statement. “As part of the strategic review we announced in November 2022, we committed to look at a variety of alternatives to help enhance Manchester United, with a focus on delivering success for our men’s, women’s and Academy teams.”\n",
    "\n",
    "That statement added that “the joint ambition is to create a world-class football operation building on the Club’s many existing strengths, including the successful off-pitch performance that it continues to enjoy.”\n",
    "\n",
    "The sale comes after over a year of rumors that the Florida-based Glazer family, which has owned the club since 2005 and also owns the NFL’s Tampa Bay Buccaneers, was interested in accepting offers. There have been multiple rounds of bids, which had included Qatari investor Sheikh Jassim bin Hamad Al Thani, who withdrew his bid in October, according to multiple reports.\n",
    "\n",
    "Manchester United has struggled in recent years under the Glazer family’s ownership. The club, which have had four full-time managers since long-time boss Sir Alex Ferguson stepped down in 2013, have not won a UEFA Champions League title since 2008, and have not captured a Premier League title since 2013.\n",
    "\n",
    "Manchester United are currently eighth in the Premier League table.\n",
    "\n",
    "Ratcliffe, 71, was born in Failsworth, Lancashire, which is part of Greater Manchester. He has described himself as “a local boy and a lifelong supporter” of Manchester United. Ratcliffe, one of Britain’s richest men with a net worth of $19.1 billion, according to Bloomberg’s billionaire index, previously launched a failed bid for London club Chelsea, which fetched $5.3 billion in May 2022.\n",
    "\n",
    "Ratcliffe also owns soccer clubs OGC Nice in France and FC Lausanne-Sport in Switzerland.\n",
    "\"\"\""
   ]
  },
  {
   "cell_type": "code",
   "execution_count": 6,
   "id": "9e0d65ba",
   "metadata": {},
   "outputs": [],
   "source": [
    "prompt = f\"\"\"\n",
    "You are an experienced news editor. \n",
    "Your job is to summarize an article, give it an enticing headline, and label the relevant figures, places or entities in the article.\n",
    "The provided article is copied below:\n",
    "###\n",
    "{article_example}\n",
    "###\n",
    "\"\"\"\n",
    "\n",
    "response = client.chat.completions.create(\n",
    "    model=\"gpt-3.5-turbo\",\n",
    "    response_model=ArticleDetail,\n",
    "    messages=[\n",
    "        {\"role\": \"user\", \"content\": prompt},\n",
    "    ],\n",
    "    max_tokens=300\n",
    ")"
   ]
  },
  {
   "cell_type": "code",
   "execution_count": 10,
   "id": "95837355",
   "metadata": {},
   "outputs": [
    {
     "data": {
      "text/plain": [
       "\"British billionaire Sir Jim Ratcliffe has purchased a 25% stake in Manchester United, the famed English Premier League soccer club. Ratcliffe, who is worth $19.1 billion, will acquire shares and provide $300 million for future investment into the club's stadium, Old Trafford. The sale, which still requires approval from the English Premier League, comes after rumors of the Glazer family's interest in accepting offers. Manchester United has struggled under the Glazer family's ownership and has not won a Champions League title since 2008 or a Premier League title since 2013.\""
      ]
     },
     "execution_count": 10,
     "metadata": {},
     "output_type": "execute_result"
    }
   ],
   "source": [
    "response.summary"
   ]
  },
  {
   "cell_type": "code",
   "execution_count": 11,
   "id": "1a3a40e5",
   "metadata": {},
   "outputs": [
    {
     "data": {
      "text/plain": [
       "'Billionaire Sir Jim Ratcliffe Buys 25% Stake in Manchester United'"
      ]
     },
     "execution_count": 11,
     "metadata": {},
     "output_type": "execute_result"
    }
   ],
   "source": [
    "response.headline"
   ]
  },
  {
   "cell_type": "code",
   "execution_count": 12,
   "id": "d5ea88e6",
   "metadata": {},
   "outputs": [
    {
     "data": {
      "text/plain": [
       "['Sir Jim Ratcliffe',\n",
       " 'Manchester United',\n",
       " 'English Premier League',\n",
       " 'INEOS',\n",
       " 'Old Trafford',\n",
       " 'Glazer family',\n",
       " 'Champions League']"
      ]
     },
     "execution_count": 12,
     "metadata": {},
     "output_type": "execute_result"
    }
   ],
   "source": [
    "response.entities"
   ]
  },
  {
   "cell_type": "markdown",
   "id": "d14ace26",
   "metadata": {},
   "source": [
    "## Use LLM to validate output content"
   ]
  },
  {
   "cell_type": "code",
   "execution_count": 16,
   "id": "51476c92",
   "metadata": {},
   "outputs": [],
   "source": [
    "class CarDetail(BaseModel):\n",
    "    model: str\n",
    "    price: str\n",
    "    description: Annotated[\n",
    "        str,\n",
    "        BeforeValidator(llm_validator(\"Make sure the description discusses a car model\", openai_client=client))\n",
    "    ]"
   ]
  },
  {
   "cell_type": "code",
   "execution_count": 19,
   "id": "faf684bd",
   "metadata": {},
   "outputs": [],
   "source": [
    "try:\n",
    "    qa = CarDetail(\n",
    "        model=\"Aurora GT8\",\n",
    "        price=\"$95,000 - $120,000\",\n",
    "        description=\"The Aurora GT8 is a sleek, high-performance sports car known for its revolutionary electric powertrain that delivers outstanding acceleration and range. With a cutting-edge design featuring aerodynamic curves and an ultra-light carbon fiber body, the GT8 combines luxury with eco-friendly efficiency. Its interior boasts state-of-the-art technology, including a fully digital dashboard and advanced driver-assist features.\"\n",
    "    )\n",
    "except ValidationError as e:\n",
    "    print(e)\n"
   ]
  },
  {
   "cell_type": "code",
   "execution_count": 20,
   "id": "e82ed0f0",
   "metadata": {},
   "outputs": [
    {
     "name": "stdout",
     "output_type": "stream",
     "text": [
      "1 validation error for CarDetail\n",
      "description\n",
      "  Assertion failed, The description does not discuss a car model. [type=assertion_error, input_value='This ride is notable for...yet intense experience.', input_type=str]\n",
      "    For further information visit https://errors.pydantic.dev/2.4/v/assertion_error\n"
     ]
    }
   ],
   "source": [
    "try:\n",
    "    qa = CarDetail(\n",
    "        model=\"Tesla Model X\",\n",
    "        price=\"$90,000 - $120,000\",\n",
    "        description=\"This ride is notable for being the tallest hybrid roller coaster in North America and the fastest and steepest hybrid coaster in the world. Iron Gwazi combines a traditional wooden structure with modern steel track, delivering an incredibly smooth yet intense experience.\"\n",
    "    )\n",
    "except ValidationError as e:\n",
    "    print(e)\n"
   ]
  },
  {
   "cell_type": "code",
   "execution_count": null,
   "id": "aa0fa0cb",
   "metadata": {},
   "outputs": [],
   "source": []
  }
 ],
 "metadata": {
  "kernelspec": {
   "display_name": "llm-explore Environment",
   "language": "python",
   "name": "llm-explore-venv"
  },
  "language_info": {
   "codemirror_mode": {
    "name": "ipython",
    "version": 3
   },
   "file_extension": ".py",
   "mimetype": "text/x-python",
   "name": "python",
   "nbconvert_exporter": "python",
   "pygments_lexer": "ipython3",
   "version": "3.9.13"
  }
 },
 "nbformat": 4,
 "nbformat_minor": 5
}
